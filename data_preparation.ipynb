{
 "cells": [
  {
   "cell_type": "code",
   "execution_count": 1,
   "metadata": {},
   "outputs": [
    {
     "name": "stderr",
     "output_type": "stream",
     "text": [
      "/home/infres/abounhar/.local/lib/python3.12/site-packages/tqdm/auto.py:21: TqdmWarning: IProgress not found. Please update jupyter and ipywidgets. See https://ipywidgets.readthedocs.io/en/stable/user_install.html\n",
      "  from .autonotebook import tqdm as notebook_tqdm\n"
     ]
    }
   ],
   "source": [
    "from datasets import (load_dataset,\n",
    "                      DatasetDict,\n",
    "                      concatenate_datasets,\n",
    "                      Dataset\n",
    "                    )\n",
    "import pandas as pd"
   ]
  },
  {
   "cell_type": "code",
   "execution_count": 3,
   "metadata": {},
   "outputs": [],
   "source": [
    "DATASET_HUB = \"atlasia/AL-Atlas-Moroccan-Darija-Pretraining-Dataset\""
   ]
  },
  {
   "cell_type": "code",
   "execution_count": 4,
   "metadata": {},
   "outputs": [
    {
     "name": "stderr",
     "output_type": "stream",
     "text": [
      "Downloading data: 100%|██████████| 48/48 [04:25<00:00,  5.53s/files]\n",
      "Generating train split: 100%|██████████| 71999640/71999640 [02:03<00:00, 581154.77 examples/s] \n",
      "Generating test split: 100%|██████████| 406331/406331 [00:00<00:00, 613579.42 examples/s]\n"
     ]
    }
   ],
   "source": [
    "dataset_in_hub = load_dataset(DATASET_HUB)"
   ]
  },
  {
   "cell_type": "markdown",
   "metadata": {},
   "source": [
    "# Load the datasets to combine"
   ]
  },
  {
   "cell_type": "code",
   "execution_count": 3,
   "metadata": {},
   "outputs": [
    {
     "name": "stderr",
     "output_type": "stream",
     "text": [
      "Generating train split: 100%|██████████| 2731313/2731313 [00:07<00:00, 367983.00 examples/s]\n"
     ]
    }
   ],
   "source": [
    "jasper_dataset = load_dataset(\"JasperV13/Darija_Dataset\")"
   ]
  },
  {
   "cell_type": "code",
   "execution_count": 4,
   "metadata": {},
   "outputs": [
    {
     "name": "stderr",
     "output_type": "stream",
     "text": [
      "Generating train split: 100%|██████████| 843/843 [00:00<00:00, 174503.91 examples/s]\n"
     ]
    }
   ],
   "source": [
    "jasper_darija_instruct_dataset = load_dataset(\"JasperV13/Darija_instruct\")"
   ]
  },
  {
   "cell_type": "code",
   "execution_count": null,
   "metadata": {},
   "outputs": [],
   "source": [
    "abdeljalil_darija_topic_ds = load_dataset(\"abdeljalilELmajjodi/darija_topic_ds\")"
   ]
  },
  {
   "cell_type": "code",
   "execution_count": null,
   "metadata": {},
   "outputs": [],
   "source": [
    "abdeljalil_darija_s2s_ds = load_dataset(\"abdeljalilELmajjodi/darija_s2s_ds\")"
   ]
  },
  {
   "cell_type": "code",
   "execution_count": null,
   "metadata": {},
   "outputs": [],
   "source": [
    "abdeljalil_darija_qa_ds = load_dataset(\"abdeljalilELmajjodi/darija_qa_ds\")"
   ]
  },
  {
   "cell_type": "code",
   "execution_count": null,
   "metadata": {},
   "outputs": [],
   "source": [
    "abdeljalil_darija_classification_ds = load_dataset(\"abdeljalilELmajjodi/darija_classification_ds\")"
   ]
  },
  {
   "cell_type": "code",
   "execution_count": null,
   "metadata": {},
   "outputs": [],
   "source": [
    "bourbouh_subtitles_dataset = load_dataset(\"bourbouh/moroccan-darija-youtube-subtitles\")"
   ]
  },
  {
   "cell_type": "code",
   "execution_count": null,
   "metadata": {},
   "outputs": [],
   "source": [
    "Darija_QA_dataset = load_dataset(\"Lyte/Darija-QA\")"
   ]
  },
  {
   "cell_type": "code",
   "execution_count": null,
   "metadata": {},
   "outputs": [],
   "source": [
    "mo_darija_merged_dataset = load_dataset(\"tachicart/mo_darija_merged\")"
   ]
  },
  {
   "cell_type": "code",
   "execution_count": 6,
   "metadata": {},
   "outputs": [],
   "source": [
    "fine_web_sawalni_filtered = load_dataset(\"sawalni-ai/fw-darija\")"
   ]
  },
  {
   "cell_type": "code",
   "execution_count": 4,
   "metadata": {},
   "outputs": [
    {
     "name": "stderr",
     "output_type": "stream",
     "text": [
      "Generating train split: 100%|██████████| 1374/1374 [00:00<00:00, 117302.89 examples/s]\n"
     ]
    }
   ],
   "source": [
    "atlasia_facebook_darija_dataset = load_dataset(\"atlasia/facebook_darija_dataset\")"
   ]
  },
  {
   "cell_type": "code",
   "execution_count": 5,
   "metadata": {},
   "outputs": [
    {
     "data": {
      "text/plain": [
       "DatasetDict({\n",
       "    train: Dataset({\n",
       "        features: ['pageName', 'text', '__index_level_0__'],\n",
       "        num_rows: 1374\n",
       "    })\n",
       "})"
      ]
     },
     "execution_count": 5,
     "metadata": {},
     "output_type": "execute_result"
    }
   ],
   "source": [
    "atlasia_facebook_darija_dataset"
   ]
  },
  {
   "cell_type": "code",
   "execution_count": 7,
   "metadata": {},
   "outputs": [
    {
     "data": {
      "text/plain": [
       "DatasetDict({\n",
       "    train: Dataset({\n",
       "        features: ['pageName', 'text'],\n",
       "        num_rows: 1374\n",
       "    })\n",
       "})"
      ]
     },
     "execution_count": 7,
     "metadata": {},
     "output_type": "execute_result"
    }
   ],
   "source": [
    "atlasia_facebook_darija_dataset = atlasia_facebook_darija_dataset.remove_columns([\"__index_level_0__\"])\n",
    "atlasia_facebook_darija_dataset"
   ]
  },
  {
   "cell_type": "markdown",
   "metadata": {},
   "source": [
    "#### MAC dataset available as CSV"
   ]
  },
  {
   "cell_type": "code",
   "execution_count": null,
   "metadata": {},
   "outputs": [],
   "source": [
    "mac_df = pd.read_csv(\"MAC corpus.csv\")\n",
    "\n",
    "https://github.com/Lafifi-24/arabic-dialect-identification"
   ]
  },
  {
   "cell_type": "code",
   "execution_count": null,
   "metadata": {},
   "outputs": [],
   "source": [
    "mac_df.head()"
   ]
  },
  {
   "cell_type": "code",
   "execution_count": null,
   "metadata": {},
   "outputs": [],
   "source": [
    "# keep only the dialect\n",
    "filtered_mac_df = mac_df[mac_df['class'] == 'dialectal']"
   ]
  },
  {
   "cell_type": "code",
   "execution_count": null,
   "metadata": {},
   "outputs": [],
   "source": [
    "filtered_mac_df.head()"
   ]
  },
  {
   "cell_type": "code",
   "execution_count": null,
   "metadata": {},
   "outputs": [],
   "source": [
    "mac_dataset = Dataset.from_pandas(filtered_mac_df)"
   ]
  },
  {
   "cell_type": "code",
   "execution_count": null,
   "metadata": {},
   "outputs": [],
   "source": [
    "mac_dataset = mac_dataset.train_test_split(test_size=0.01).remove_columns('__index_level_0__')  # leave 1% for test"
   ]
  },
  {
   "cell_type": "code",
   "execution_count": null,
   "metadata": {},
   "outputs": [],
   "source": [
    "mac_dataset"
   ]
  },
  {
   "cell_type": "code",
   "execution_count": 4,
   "metadata": {},
   "outputs": [
    {
     "name": "stderr",
     "output_type": "stream",
     "text": [
      "Downloading data: 100%|██████████| 34/34 [04:34<00:00,  8.07s/files]\n",
      "Generating train split: 100%|██████████| 69181074/69181074 [01:37<00:00, 707992.38 examples/s] \n",
      "Generating test split: 100%|██████████| 404456/404456 [00:00<00:00, 698677.54 examples/s]\n"
     ]
    }
   ],
   "source": [
    "fineweb_2_ary = load_dataset(\"Omartificial-Intelligence-Space/FineWeb2-Moroccan-Arabic\")"
   ]
  },
  {
   "cell_type": "code",
   "execution_count": 5,
   "metadata": {},
   "outputs": [
    {
     "data": {
      "text/plain": [
       "DatasetDict({\n",
       "    train: Dataset({\n",
       "        features: ['text'],\n",
       "        num_rows: 69181074\n",
       "    })\n",
       "    test: Dataset({\n",
       "        features: ['text'],\n",
       "        num_rows: 404456\n",
       "    })\n",
       "})"
      ]
     },
     "execution_count": 5,
     "metadata": {},
     "output_type": "execute_result"
    }
   ],
   "source": [
    "fineweb_2_ary"
   ]
  },
  {
   "cell_type": "markdown",
   "metadata": {},
   "source": [
    "# Concatenate the datasets"
   ]
  },
  {
   "cell_type": "code",
   "execution_count": 6,
   "metadata": {},
   "outputs": [],
   "source": [
    "# ------------------------------------------------------------------------------------------------------------ #\n",
    "# ------------------------------------------------------------------------------------------------------------ #\n",
    "\n",
    "def extract_and_stack_dataset(dataset, dataset_source, dataset_source_column, use_source_from_dataset, metadata_columns):\n",
    "    \"\"\"\n",
    "    Stack multiple text columns into a single \"text\" column, keeping metadata, and add dataset_source as a separate column.\n",
    "\n",
    "    Args:\n",
    "        dataset (DatasetDict or Dataset): The dataset or dataset dict to process.\n",
    "        dataset_source (str): The source of the dataset to add as a separate column.\n",
    "        dataset_source_column (str): In case the dataset has the source, use it.\n",
    "        use_source_from_dataset (bool): Whether to use the 'source' column from the dataset.\n",
    "        metadata_columns (list or str): List of columns (or single column) to exclude (used as metadata).\n",
    "\n",
    "    Returns:\n",
    "        DatasetDict: A DatasetDict with stacked text, metadata columns, and dataset_source as a separate column.\n",
    "    \"\"\"\n",
    "    if isinstance(metadata_columns, str):\n",
    "        metadata_columns = [metadata_columns]  # Handle single column as a list\n",
    "\n",
    "    def transform(sample):\n",
    "        # Check for columns that don't exist in the dataset\n",
    "        for col in metadata_columns:\n",
    "            if col not in sample:\n",
    "                raise KeyError(f\"Column '{col}' is not in the dataset. Available columns: {list(sample.keys())}\")\n",
    "\n",
    "        # Identify text columns to stack (all columns except excluded)\n",
    "        text_columns = [col for col in sample.keys() if col not in metadata_columns]\n",
    "        stacked_text = []\n",
    "        metadata_list = {col: [] for col in metadata_columns}  # Initialize metadata dict\n",
    "\n",
    "        # Stack text and metadata\n",
    "        for col in text_columns:\n",
    "            if isinstance(sample[col], list):  # Handle batch mapping with lists\n",
    "                stacked_text.extend(sample[col])\n",
    "                for meta_col in metadata_columns:\n",
    "                    metadata_list[meta_col].extend(sample[meta_col])\n",
    "            else:\n",
    "                stacked_text.append(sample[col])\n",
    "                for meta_col in metadata_columns:\n",
    "                    metadata_list[meta_col].append(sample[meta_col])\n",
    "\n",
    "        # Prepare metadata as string for each entry\n",
    "        merged_metadata = [\n",
    "            {meta_col: str(metadata_list[meta_col][i]) for meta_col in metadata_columns}\n",
    "            for i in range(len(stacked_text))\n",
    "        ]\n",
    "        \n",
    "        # Convert entire metadata to string (by converting the whole dict to a string)\n",
    "        merged_metadata_as_str = [str(metadata) for metadata in merged_metadata]\n",
    "       \n",
    "        # Determine the dataset_source_column value based on whether to use it from the dataset\n",
    "        if use_source_from_dataset and dataset_source_column in sample:\n",
    "            if isinstance(sample[dataset_source_column], list):  # Batch processing\n",
    "                dataset_source_column_value = sample[dataset_source_column]\n",
    "            else:\n",
    "                dataset_source_column_value = [sample[dataset_source_column]] * len(stacked_text)\n",
    "        else:\n",
    "            dataset_source_column_value = [dataset_source] * len(stacked_text)\n",
    "\n",
    "            \n",
    "        return {\n",
    "            \"text\": stacked_text,\n",
    "            \"dataset_source\": dataset_source_column_value,  # Separate column for dataset source\n",
    "            \"metadata\": merged_metadata_as_str,  # Entire metadata as string\n",
    "        }\n",
    "\n",
    "    # Apply transformation across splits, preserving split structure\n",
    "    if isinstance(dataset, DatasetDict):\n",
    "        new_splits = {}\n",
    "        for split in dataset.keys():\n",
    "            print(f\"Processing split: {split}...\")\n",
    "            new_splits[split] = dataset[split].map(\n",
    "                transform,\n",
    "                batched=True,  # Needed to handle stacking correctly\n",
    "                remove_columns=dataset[split].column_names\n",
    "            ).flatten_indices()\n",
    "        return DatasetDict(new_splits)\n",
    "    else:\n",
    "        return dataset.map(\n",
    "            transform,\n",
    "            batched=True,\n",
    "            remove_columns=dataset.column_names\n",
    "        ).flatten_indices()\n",
    "\n",
    "\n",
    "# ------------------------------------------------------------------------------------------------------------ #\n",
    "# ------------------------------------------------------------------------------------------------------------ #\n",
    "\n",
    "from datasets import DatasetDict, concatenate_datasets\n",
    "\n",
    "def concat_datasetdicts(d1: DatasetDict, d2: DatasetDict) -> DatasetDict:\n",
    "    \"\"\"\n",
    "    Concatenates two DatasetDict objects, handling missing splits and columns.\n",
    "    If a split exists in one DatasetDict but not the other, it is included as-is.\n",
    "    If columns are missing in one dataset, they are added with None values.\n",
    "\n",
    "    Args:\n",
    "        d1 (DatasetDict): The first DatasetDict to concatenate.\n",
    "        d2 (DatasetDict): The second DatasetDict to concatenate.\n",
    "\n",
    "    Returns:\n",
    "        DatasetDict: A new DatasetDict with concatenated splits.\n",
    "    \"\"\"\n",
    "    # Get all unique splits from both DatasetDicts\n",
    "    all_splits = set(d1.keys()).union(d2.keys())\n",
    "\n",
    "    # Create a new DatasetDict by combining splits\n",
    "    concatenated = DatasetDict()\n",
    "    \n",
    "    for split in all_splits:\n",
    "        if split in d1 and split in d2:\n",
    "            # Both DatasetDicts have this split, so concatenate them\n",
    "            # Get the feature sets from both datasets\n",
    "            features_d1 = set(d1[split].column_names)\n",
    "            features_d2 = set(d2[split].column_names)\n",
    "\n",
    "            # Find missing columns in both datasets\n",
    "            missing_in_d1 = features_d2 - features_d1\n",
    "            missing_in_d2 = features_d1 - features_d2\n",
    "\n",
    "            # Add missing columns with None values\n",
    "            for missing_col in missing_in_d1:\n",
    "                d1[split] = d1[split].add_column(missing_col, [None] * len(d1[split]))\n",
    "            for missing_col in missing_in_d2:\n",
    "                d2[split] = d2[split].add_column(missing_col, [None] * len(d2[split]))\n",
    "\n",
    "            # Now concatenate the datasets with the same features\n",
    "            concatenated[split] = concatenate_datasets([d1[split], d2[split]])\n",
    "\n",
    "        elif split in d1:\n",
    "            # Only the first DatasetDict has this split\n",
    "            concatenated[split] = d1[split]\n",
    "        elif split in d2:\n",
    "            # Only the second DatasetDict has this split\n",
    "            concatenated[split] = d2[split]\n",
    "\n",
    "    return concatenated\n",
    "\n",
    "# ------------------------------------------------------------------------------------------------------------ #\n",
    "# ------------------------------------------------------------------------------------------------------------ #\n",
    "\n",
    "def combine_all_datasets(all_datasets_dict: dict={}):\n",
    "    \"\"\" Combines all dataset from a given dictionary of structure. \"\"\"\n",
    "    \n",
    "    # Create a new DatasetDict by combining splits\n",
    "    combined = DatasetDict()\n",
    "        \n",
    "    for dataset_source, data in all_datasets_dict.items():\n",
    "        \n",
    "        if data[\"dataset_source_column_name\"] is not None:\n",
    "            use_source_from_dataset = True\n",
    "            dataset_source_column = data[\"dataset_source_column_name\"]\n",
    "        else:\n",
    "            use_source_from_dataset = False\n",
    "            dataset_source_column = None\n",
    "        \n",
    "        dataset = extract_and_stack_dataset(dataset=data[\"dataset\"], \n",
    "                                                dataset_source=dataset_source, \n",
    "                                                dataset_source_column=dataset_source_column, \n",
    "                                                use_source_from_dataset=use_source_from_dataset, \n",
    "                                                metadata_columns=data[\"metadata_columns\"]\n",
    "                )\n",
    "        combined = concat_datasetdicts(combined, dataset)\n",
    "        \n",
    "        print(f\"=\" * 25)\n",
    "        \n",
    "    return combined\n",
    "    \n",
    "# ------------------------------------------------------------------------------------------------------------ #\n",
    "# ------------------------------------------------------------------------------------------------------------ #"
   ]
  },
  {
   "cell_type": "code",
   "execution_count": 7,
   "metadata": {},
   "outputs": [
    {
     "ename": "NameError",
     "evalue": "name 'jasper_dataset' is not defined",
     "output_type": "error",
     "traceback": [
      "\u001b[0;31m---------------------------------------------------------------------------\u001b[0m",
      "\u001b[0;31mNameError\u001b[0m                                 Traceback (most recent call last)",
      "Cell \u001b[0;32mIn[7], line 3\u001b[0m\n\u001b[1;32m      1\u001b[0m all_datasets_dict\u001b[38;5;241m=\u001b[39m {\n\u001b[1;32m      2\u001b[0m                 \u001b[38;5;124m\"\u001b[39m\u001b[38;5;124mJasperV13/Darija_Dataset\u001b[39m\u001b[38;5;124m\"\u001b[39m: {\n\u001b[0;32m----> 3\u001b[0m                     \u001b[38;5;124m\"\u001b[39m\u001b[38;5;124mdataset\u001b[39m\u001b[38;5;124m\"\u001b[39m: \u001b[43mjasper_dataset\u001b[49m,\n\u001b[1;32m      4\u001b[0m                     \u001b[38;5;124m\"\u001b[39m\u001b[38;5;124mmetadata_columns\u001b[39m\u001b[38;5;124m\"\u001b[39m: [\u001b[38;5;124m'\u001b[39m\u001b[38;5;124msource\u001b[39m\u001b[38;5;124m'\u001b[39m],\n\u001b[1;32m      5\u001b[0m                     \u001b[38;5;124m\"\u001b[39m\u001b[38;5;124mdataset_source_column_name\u001b[39m\u001b[38;5;124m\"\u001b[39m: \u001b[38;5;124m'\u001b[39m\u001b[38;5;124msource\u001b[39m\u001b[38;5;124m'\u001b[39m,\n\u001b[1;32m      6\u001b[0m                 },\n\u001b[1;32m      7\u001b[0m                 \u001b[38;5;124m\"\u001b[39m\u001b[38;5;124mabdeljalilELmajjodi/darija_topic_ds\u001b[39m\u001b[38;5;124m\"\u001b[39m: {\n\u001b[1;32m      8\u001b[0m                     \u001b[38;5;124m\"\u001b[39m\u001b[38;5;124mdataset\u001b[39m\u001b[38;5;124m\"\u001b[39m: abdeljalil_darija_topic_ds,\n\u001b[1;32m      9\u001b[0m                     \u001b[38;5;124m\"\u001b[39m\u001b[38;5;124mmetadata_columns\u001b[39m\u001b[38;5;124m\"\u001b[39m: [\u001b[38;5;124m'\u001b[39m\u001b[38;5;124mtopic\u001b[39m\u001b[38;5;124m'\u001b[39m],\n\u001b[1;32m     10\u001b[0m                     \u001b[38;5;124m\"\u001b[39m\u001b[38;5;124mdataset_source_column_name\u001b[39m\u001b[38;5;124m\"\u001b[39m: \u001b[38;5;28;01mNone\u001b[39;00m,\n\u001b[1;32m     11\u001b[0m                 },\n\u001b[1;32m     12\u001b[0m                 \u001b[38;5;124m\"\u001b[39m\u001b[38;5;124mabdeljalilELmajjodi/darija_qa_ds\u001b[39m\u001b[38;5;124m\"\u001b[39m: {\n\u001b[1;32m     13\u001b[0m                     \u001b[38;5;124m\"\u001b[39m\u001b[38;5;124mdataset\u001b[39m\u001b[38;5;124m\"\u001b[39m: abdeljalil_darija_qa_ds,\n\u001b[1;32m     14\u001b[0m                     \u001b[38;5;124m\"\u001b[39m\u001b[38;5;124mmetadata_columns\u001b[39m\u001b[38;5;124m\"\u001b[39m: [\u001b[38;5;124m'\u001b[39m\u001b[38;5;124mquestion_number\u001b[39m\u001b[38;5;124m'\u001b[39m, \u001b[38;5;124m'\u001b[39m\u001b[38;5;124mcorrect_answer_num\u001b[39m\u001b[38;5;124m'\u001b[39m],\n\u001b[1;32m     15\u001b[0m                     \u001b[38;5;124m\"\u001b[39m\u001b[38;5;124mdataset_source_column_name\u001b[39m\u001b[38;5;124m\"\u001b[39m: \u001b[38;5;28;01mNone\u001b[39;00m,\n\u001b[1;32m     16\u001b[0m                 },\n\u001b[1;32m     17\u001b[0m                 \u001b[38;5;124m\"\u001b[39m\u001b[38;5;124mabdeljalilELmajjodi/abdeljalil_darija_classification_ds\u001b[39m\u001b[38;5;124m\"\u001b[39m: {\n\u001b[1;32m     18\u001b[0m                     \u001b[38;5;124m\"\u001b[39m\u001b[38;5;124mdataset\u001b[39m\u001b[38;5;124m\"\u001b[39m: abdeljalil_darija_classification_ds,\n\u001b[1;32m     19\u001b[0m                     \u001b[38;5;124m\"\u001b[39m\u001b[38;5;124mmetadata_columns\u001b[39m\u001b[38;5;124m\"\u001b[39m: [\u001b[38;5;124m'\u001b[39m\u001b[38;5;124mindex_id\u001b[39m\u001b[38;5;124m'\u001b[39m, \u001b[38;5;124m'\u001b[39m\u001b[38;5;124mcategory\u001b[39m\u001b[38;5;124m'\u001b[39m],\n\u001b[1;32m     20\u001b[0m                     \u001b[38;5;124m\"\u001b[39m\u001b[38;5;124mdataset_source_column_name\u001b[39m\u001b[38;5;124m\"\u001b[39m: \u001b[38;5;28;01mNone\u001b[39;00m,\n\u001b[1;32m     21\u001b[0m                 },\n\u001b[1;32m     22\u001b[0m                 \u001b[38;5;124m\"\u001b[39m\u001b[38;5;124mbourbouh/moroccan-darija-youtube-subtitles\u001b[39m\u001b[38;5;124m\"\u001b[39m: {\n\u001b[1;32m     23\u001b[0m                     \u001b[38;5;124m\"\u001b[39m\u001b[38;5;124mdataset\u001b[39m\u001b[38;5;124m\"\u001b[39m: bourbouh_subtitles_dataset,\n\u001b[1;32m     24\u001b[0m                     \u001b[38;5;124m\"\u001b[39m\u001b[38;5;124mmetadata_columns\u001b[39m\u001b[38;5;124m\"\u001b[39m: [\u001b[38;5;124m'\u001b[39m\u001b[38;5;124mvideo_id\u001b[39m\u001b[38;5;124m'\u001b[39m, \u001b[38;5;124m'\u001b[39m\u001b[38;5;124mtitle\u001b[39m\u001b[38;5;124m'\u001b[39m],\n\u001b[1;32m     25\u001b[0m                     \u001b[38;5;124m\"\u001b[39m\u001b[38;5;124mdataset_source_column_name\u001b[39m\u001b[38;5;124m\"\u001b[39m: \u001b[38;5;28;01mNone\u001b[39;00m,\n\u001b[1;32m     26\u001b[0m                 },\n\u001b[1;32m     27\u001b[0m                 \u001b[38;5;124m\"\u001b[39m\u001b[38;5;124mJasperV13/Darija_instruct\u001b[39m\u001b[38;5;124m\"\u001b[39m: {\n\u001b[1;32m     28\u001b[0m                     \u001b[38;5;124m\"\u001b[39m\u001b[38;5;124mdataset\u001b[39m\u001b[38;5;124m\"\u001b[39m: jasper_darija_instruct_dataset,\n\u001b[1;32m     29\u001b[0m                     \u001b[38;5;124m\"\u001b[39m\u001b[38;5;124mmetadata_columns\u001b[39m\u001b[38;5;124m\"\u001b[39m: [],\n\u001b[1;32m     30\u001b[0m                     \u001b[38;5;124m\"\u001b[39m\u001b[38;5;124mdataset_source_column_name\u001b[39m\u001b[38;5;124m\"\u001b[39m: \u001b[38;5;28;01mNone\u001b[39;00m,\n\u001b[1;32m     31\u001b[0m                 },\n\u001b[1;32m     32\u001b[0m                 \u001b[38;5;124m\"\u001b[39m\u001b[38;5;124mtachicart/mo_darija_merged\u001b[39m\u001b[38;5;124m\"\u001b[39m: {\n\u001b[1;32m     33\u001b[0m                     \u001b[38;5;124m\"\u001b[39m\u001b[38;5;124mdataset\u001b[39m\u001b[38;5;124m\"\u001b[39m: mo_darija_merged_dataset,\n\u001b[1;32m     34\u001b[0m                     \u001b[38;5;124m\"\u001b[39m\u001b[38;5;124mmetadata_columns\u001b[39m\u001b[38;5;124m\"\u001b[39m: [\u001b[38;5;124m'\u001b[39m\u001b[38;5;124mar\u001b[39m\u001b[38;5;124m'\u001b[39m],\n\u001b[1;32m     35\u001b[0m                     \u001b[38;5;124m\"\u001b[39m\u001b[38;5;124mdataset_source_column_name\u001b[39m\u001b[38;5;124m\"\u001b[39m: \u001b[38;5;28;01mNone\u001b[39;00m,\n\u001b[1;32m     36\u001b[0m                 },\n\u001b[1;32m     37\u001b[0m                 \u001b[38;5;124m\"\u001b[39m\u001b[38;5;124mLyte/Darija-QA\u001b[39m\u001b[38;5;124m\"\u001b[39m: {\n\u001b[1;32m     38\u001b[0m                     \u001b[38;5;124m\"\u001b[39m\u001b[38;5;124mdataset\u001b[39m\u001b[38;5;124m\"\u001b[39m: Darija_QA_dataset,\n\u001b[1;32m     39\u001b[0m                     \u001b[38;5;124m\"\u001b[39m\u001b[38;5;124mmetadata_columns\u001b[39m\u001b[38;5;124m\"\u001b[39m: [],\n\u001b[1;32m     40\u001b[0m                     \u001b[38;5;124m\"\u001b[39m\u001b[38;5;124mdataset_source_column_name\u001b[39m\u001b[38;5;124m\"\u001b[39m: \u001b[38;5;28;01mNone\u001b[39;00m,\n\u001b[1;32m     41\u001b[0m                 },\n\u001b[1;32m     42\u001b[0m                 \u001b[38;5;124m\"\u001b[39m\u001b[38;5;124mMAC Corpus\u001b[39m\u001b[38;5;124m\"\u001b[39m: {\n\u001b[1;32m     43\u001b[0m                     \u001b[38;5;124m\"\u001b[39m\u001b[38;5;124mdataset\u001b[39m\u001b[38;5;124m\"\u001b[39m: mac_dataset,\n\u001b[1;32m     44\u001b[0m                     \u001b[38;5;124m\"\u001b[39m\u001b[38;5;124mmetadata_columns\u001b[39m\u001b[38;5;124m\"\u001b[39m: [\u001b[38;5;124m'\u001b[39m\u001b[38;5;124mtype\u001b[39m\u001b[38;5;124m'\u001b[39m, \u001b[38;5;124m'\u001b[39m\u001b[38;5;124mclass\u001b[39m\u001b[38;5;124m'\u001b[39m],\n\u001b[1;32m     45\u001b[0m                     \u001b[38;5;124m\"\u001b[39m\u001b[38;5;124mdataset_source_column_name\u001b[39m\u001b[38;5;124m\"\u001b[39m: \u001b[38;5;28;01mNone\u001b[39;00m,\n\u001b[1;32m     46\u001b[0m                 },\n\u001b[1;32m     47\u001b[0m                 \u001b[38;5;124m\"\u001b[39m\u001b[38;5;124msawalni-ai/fw-darija\u001b[39m\u001b[38;5;124m\"\u001b[39m: {\n\u001b[1;32m     48\u001b[0m                     \u001b[38;5;124m\"\u001b[39m\u001b[38;5;124mdataset\u001b[39m\u001b[38;5;124m\"\u001b[39m: fine_web_sawalni_filtered,\n\u001b[1;32m     49\u001b[0m                     \u001b[38;5;124m\"\u001b[39m\u001b[38;5;124mmetadata_columns\u001b[39m\u001b[38;5;124m\"\u001b[39m: [\u001b[38;5;124m'\u001b[39m\u001b[38;5;124mgherbal_cleaned_text\u001b[39m\u001b[38;5;124m'\u001b[39m, \u001b[38;5;124m'\u001b[39m\u001b[38;5;124mgherbal_predictions\u001b[39m\u001b[38;5;124m'\u001b[39m, \u001b[38;5;124m'\u001b[39m\u001b[38;5;124mgherbal_lang\u001b[39m\u001b[38;5;124m'\u001b[39m, \u001b[38;5;124m'\u001b[39m\u001b[38;5;124mgherbal_score\u001b[39m\u001b[38;5;124m'\u001b[39m, \u001b[38;5;124m'\u001b[39m\u001b[38;5;124mid\u001b[39m\u001b[38;5;124m'\u001b[39m, \u001b[38;5;124m'\u001b[39m\u001b[38;5;124mmetadata\u001b[39m\u001b[38;5;124m'\u001b[39m, \u001b[38;5;124m'\u001b[39m\u001b[38;5;124mdomain\u001b[39m\u001b[38;5;124m'\u001b[39m],\n\u001b[1;32m     50\u001b[0m                     \u001b[38;5;124m\"\u001b[39m\u001b[38;5;124mdataset_source_column_name\u001b[39m\u001b[38;5;124m\"\u001b[39m: \u001b[38;5;28;01mNone\u001b[39;00m,\n\u001b[1;32m     51\u001b[0m                 },\n\u001b[1;32m     52\u001b[0m             }\n",
      "\u001b[0;31mNameError\u001b[0m: name 'jasper_dataset' is not defined"
     ]
    }
   ],
   "source": [
    "all_datasets_dict= {\n",
    "                \"JasperV13/Darija_Dataset\": {\n",
    "                    \"dataset\": jasper_dataset,\n",
    "                    \"metadata_columns\": ['source'],\n",
    "                    \"dataset_source_column_name\": 'source',\n",
    "                },\n",
    "                \"abdeljalilELmajjodi/darija_topic_ds\": {\n",
    "                    \"dataset\": abdeljalil_darija_topic_ds,\n",
    "                    \"metadata_columns\": ['topic'],\n",
    "                    \"dataset_source_column_name\": None,\n",
    "                },\n",
    "                \"abdeljalilELmajjodi/darija_qa_ds\": {\n",
    "                    \"dataset\": abdeljalil_darija_qa_ds,\n",
    "                    \"metadata_columns\": ['question_number', 'correct_answer_num'],\n",
    "                    \"dataset_source_column_name\": None,\n",
    "                },\n",
    "                \"abdeljalilELmajjodi/abdeljalil_darija_classification_ds\": {\n",
    "                    \"dataset\": abdeljalil_darija_classification_ds,\n",
    "                    \"metadata_columns\": ['index_id', 'category'],\n",
    "                    \"dataset_source_column_name\": None,\n",
    "                },\n",
    "                \"bourbouh/moroccan-darija-youtube-subtitles\": {\n",
    "                    \"dataset\": bourbouh_subtitles_dataset,\n",
    "                    \"metadata_columns\": ['video_id', 'title'],\n",
    "                    \"dataset_source_column_name\": None,\n",
    "                },\n",
    "                \"JasperV13/Darija_instruct\": {\n",
    "                    \"dataset\": jasper_darija_instruct_dataset,\n",
    "                    \"metadata_columns\": [],\n",
    "                    \"dataset_source_column_name\": None,\n",
    "                },\n",
    "                \"tachicart/mo_darija_merged\": {\n",
    "                    \"dataset\": mo_darija_merged_dataset,\n",
    "                    \"metadata_columns\": ['ar'],\n",
    "                    \"dataset_source_column_name\": None,\n",
    "                },\n",
    "                \"Lyte/Darija-QA\": {\n",
    "                    \"dataset\": Darija_QA_dataset,\n",
    "                    \"metadata_columns\": [],\n",
    "                    \"dataset_source_column_name\": None,\n",
    "                },\n",
    "                \"MAC Corpus\": {\n",
    "                    \"dataset\": mac_dataset,\n",
    "                    \"metadata_columns\": ['type', 'class'],\n",
    "                    \"dataset_source_column_name\": None,\n",
    "                },\n",
    "                \"sawalni-ai/fw-darija\": {\n",
    "                    \"dataset\": fine_web_sawalni_filtered,\n",
    "                    \"metadata_columns\": ['gherbal_cleaned_text', 'gherbal_predictions', 'gherbal_lang', 'gherbal_score', 'id', 'metadata', 'domain'],\n",
    "                    \"dataset_source_column_name\": None,\n",
    "                },\n",
    "            }"
   ]
  },
  {
   "cell_type": "code",
   "execution_count": 8,
   "metadata": {},
   "outputs": [],
   "source": [
    "to_add_datasets_dict= {\n",
    "                \"Omartificial-Intelligence-Space/FineWeb2-Moroccan-Arabic\": {\n",
    "                    \"dataset\": fineweb_2_ary,\n",
    "                    \"metadata_columns\": [],\n",
    "                    \"dataset_source_column_name\": None,\n",
    "                },\n",
    "            }"
   ]
  },
  {
   "cell_type": "code",
   "execution_count": 9,
   "metadata": {},
   "outputs": [
    {
     "data": {
      "text/plain": [
       "DatasetDict({\n",
       "    train: Dataset({\n",
       "        features: ['text'],\n",
       "        num_rows: 69181074\n",
       "    })\n",
       "    test: Dataset({\n",
       "        features: ['text'],\n",
       "        num_rows: 404456\n",
       "    })\n",
       "})"
      ]
     },
     "execution_count": 9,
     "metadata": {},
     "output_type": "execute_result"
    }
   ],
   "source": [
    "fineweb_2_ary"
   ]
  },
  {
   "cell_type": "code",
   "execution_count": 10,
   "metadata": {},
   "outputs": [
    {
     "name": "stdout",
     "output_type": "stream",
     "text": [
      "Processing split: train...\n"
     ]
    },
    {
     "name": "stderr",
     "output_type": "stream",
     "text": [
      "Map: 100%|██████████| 69181074/69181074 [07:09<00:00, 160941.05 examples/s]\n",
      "Flattening the indices: 100%|██████████| 69181074/69181074 [03:59<00:00, 289345.28 examples/s] \n"
     ]
    },
    {
     "name": "stdout",
     "output_type": "stream",
     "text": [
      "Processing split: test...\n"
     ]
    },
    {
     "name": "stderr",
     "output_type": "stream",
     "text": [
      "Map: 100%|██████████| 404456/404456 [00:01<00:00, 204918.55 examples/s]\n",
      "Flattening the indices: 100%|██████████| 404456/404456 [00:00<00:00, 634658.87 examples/s] "
     ]
    },
    {
     "name": "stdout",
     "output_type": "stream",
     "text": [
      "=========================\n"
     ]
    },
    {
     "name": "stderr",
     "output_type": "stream",
     "text": [
      "\n"
     ]
    }
   ],
   "source": [
    "to_add_dataset = combine_all_datasets(to_add_datasets_dict)"
   ]
  },
  {
   "cell_type": "code",
   "execution_count": 11,
   "metadata": {},
   "outputs": [
    {
     "data": {
      "text/plain": [
       "DatasetDict({\n",
       "    train: Dataset({\n",
       "        features: ['text', 'dataset_source', 'metadata'],\n",
       "        num_rows: 69181074\n",
       "    })\n",
       "    test: Dataset({\n",
       "        features: ['text', 'dataset_source', 'metadata'],\n",
       "        num_rows: 404456\n",
       "    })\n",
       "})"
      ]
     },
     "execution_count": 11,
     "metadata": {},
     "output_type": "execute_result"
    }
   ],
   "source": [
    "to_add_dataset"
   ]
  },
  {
   "cell_type": "code",
   "execution_count": 12,
   "metadata": {},
   "outputs": [
    {
     "data": {
      "text/plain": [
       "{'Omartificial-Intelligence-Space/FineWeb2-Moroccan-Arabic'}"
      ]
     },
     "execution_count": 12,
     "metadata": {},
     "output_type": "execute_result"
    }
   ],
   "source": [
    "set(to_add_dataset['train']['dataset_source'])"
   ]
  },
  {
   "cell_type": "code",
   "execution_count": 13,
   "metadata": {},
   "outputs": [],
   "source": [
    "combined = concat_datasetdicts(to_add_dataset, dataset_in_hub)"
   ]
  },
  {
   "cell_type": "code",
   "execution_count": 14,
   "metadata": {},
   "outputs": [
    {
     "data": {
      "text/plain": [
       "{'ArabicDarija_xP3x',\n",
       " 'Darija-Stories-Dataset',\n",
       " 'DarijaBridge',\n",
       " 'DarijaEnglish-xP3x',\n",
       " 'JasperV13/Darija_instruct',\n",
       " 'Lyte/Darija-QA',\n",
       " 'MAC Corpus',\n",
       " 'MArSum',\n",
       " 'ML101',\n",
       " 'MTCD',\n",
       " 'Omartificial-Intelligence-Space/FineWeb2-Moroccan-Arabic',\n",
       " 'abdeljalilELmajjodi/abdeljalil_darija_classification_ds',\n",
       " 'abdeljalilELmajjodi/darija_qa_ds',\n",
       " 'abdeljalilELmajjodi/darija_topic_ds',\n",
       " 'atlasia/darija_english',\n",
       " 'atlasia/facebook_darija_dataset',\n",
       " 'bourbouh/moroccan-darija-youtube-subtitles',\n",
       " 'darija_speech_to_text',\n",
       " 'darija_youtube_subtitles',\n",
       " 'dataset_dyal_darija',\n",
       " 'goud-sum',\n",
       " 'moroccan_darija_wikipedia_dataset',\n",
       " 'sawalni-ai/fw-darija',\n",
       " 'tachicart/mo_darija_merged'}"
      ]
     },
     "execution_count": 14,
     "metadata": {},
     "output_type": "execute_result"
    }
   ],
   "source": [
    "set(combined['train']['dataset_source'])"
   ]
  },
  {
   "cell_type": "markdown",
   "metadata": {},
   "source": [
    "# Push the dataset to the Hugging Face Hub"
   ]
  },
  {
   "cell_type": "code",
   "execution_count": 15,
   "metadata": {},
   "outputs": [
    {
     "name": "stderr",
     "output_type": "stream",
     "text": [
      "Creating parquet from Arrow format: 100%|██████████| 1500/1500 [00:01<00:00, 792.19ba/s]\n",
      "Creating parquet from Arrow format: 100%|██████████| 1500/1500 [00:01<00:00, 790.82ba/s]\n",
      "Creating parquet from Arrow format: 100%|██████████| 1500/1500 [00:01<00:00, 831.83ba/s]\n",
      "Creating parquet from Arrow format: 100%|██████████| 1500/1500 [00:01<00:00, 829.63ba/s]\n",
      "Creating parquet from Arrow format: 100%|██████████| 1500/1500 [00:01<00:00, 810.89ba/s]\n",
      "Creating parquet from Arrow format: 100%|██████████| 1500/1500 [00:01<00:00, 810.63ba/s]\n",
      "Creating parquet from Arrow format: 100%|██████████| 1500/1500 [00:01<00:00, 818.38ba/s]\n",
      "Creating parquet from Arrow format: 100%|██████████| 1500/1500 [00:01<00:00, 822.53ba/s]\n",
      "Creating parquet from Arrow format: 100%|██████████| 1500/1500 [00:01<00:00, 827.39ba/s]\n",
      "Creating parquet from Arrow format: 100%|██████████| 1500/1500 [00:01<00:00, 857.38ba/s]\n",
      "Creating parquet from Arrow format: 100%|██████████| 1500/1500 [00:01<00:00, 855.97ba/s]\n",
      "Creating parquet from Arrow format: 100%|██████████| 1500/1500 [00:02<00:00, 679.32ba/s]\n",
      "Creating parquet from Arrow format: 100%|██████████| 1500/1500 [00:01<00:00, 871.37ba/s]\n",
      "Creating parquet from Arrow format: 100%|██████████| 1500/1500 [00:01<00:00, 865.45ba/s]\n",
      "Creating parquet from Arrow format: 100%|██████████| 1500/1500 [00:01<00:00, 870.78ba/s]\n",
      "Creating parquet from Arrow format: 100%|██████████| 1500/1500 [00:01<00:00, 850.80ba/s]\n",
      "Creating parquet from Arrow format: 100%|██████████| 1500/1500 [00:01<00:00, 847.52ba/s]\n",
      "Creating parquet from Arrow format: 100%|██████████| 1500/1500 [00:01<00:00, 845.10ba/s]\n",
      "Creating parquet from Arrow format: 100%|██████████| 1500/1500 [00:01<00:00, 840.66ba/s]\n",
      "Creating parquet from Arrow format: 100%|██████████| 1500/1500 [00:02<00:00, 711.34ba/s]\n",
      "Creating parquet from Arrow format: 100%|██████████| 1500/1500 [00:01<00:00, 854.07ba/s]\n",
      "Creating parquet from Arrow format: 100%|██████████| 1500/1500 [00:01<00:00, 886.02ba/s]\n",
      "Creating parquet from Arrow format: 100%|██████████| 1500/1500 [00:01<00:00, 894.60ba/s]\n",
      "Creating parquet from Arrow format: 100%|██████████| 1500/1500 [00:01<00:00, 866.03ba/s]\n",
      "Creating parquet from Arrow format: 100%|██████████| 1500/1500 [00:01<00:00, 865.85ba/s]\n",
      "Creating parquet from Arrow format: 100%|██████████| 1500/1500 [00:01<00:00, 866.92ba/s]\n",
      "Creating parquet from Arrow format: 100%|██████████| 1500/1500 [00:01<00:00, 902.96ba/s]\n",
      "Creating parquet from Arrow format: 100%|██████████| 1500/1500 [00:01<00:00, 922.21ba/s]\n",
      "Creating parquet from Arrow format: 100%|██████████| 1500/1500 [00:01<00:00, 883.21ba/s]\n",
      "Creating parquet from Arrow format: 100%|██████████| 1500/1500 [00:01<00:00, 877.09ba/s]\n",
      "Creating parquet from Arrow format: 100%|██████████| 1500/1500 [00:01<00:00, 887.17ba/s]\n",
      "Creating parquet from Arrow format: 100%|██████████| 1500/1500 [00:01<00:00, 895.76ba/s]\n",
      "Creating parquet from Arrow format: 100%|██████████| 1500/1500 [00:01<00:00, 888.63ba/s]\n",
      "Creating parquet from Arrow format: 100%|██████████| 1500/1500 [00:01<00:00, 896.31ba/s]\n",
      "Creating parquet from Arrow format: 100%|██████████| 1500/1500 [00:01<00:00, 881.94ba/s]\n",
      "Creating parquet from Arrow format: 100%|██████████| 1500/1500 [00:01<00:00, 939.94ba/s]\n",
      "Creating parquet from Arrow format: 100%|██████████| 1500/1500 [00:01<00:00, 940.94ba/s]\n",
      "Creating parquet from Arrow format: 100%|██████████| 1500/1500 [00:01<00:00, 915.71ba/s]\n",
      "Creating parquet from Arrow format: 100%|██████████| 1500/1500 [00:01<00:00, 910.22ba/s]\n",
      "Creating parquet from Arrow format: 100%|██████████| 1500/1500 [00:01<00:00, 1309.09ba/s]\n",
      "Creating parquet from Arrow format: 100%|██████████| 1500/1500 [00:01<00:00, 1378.42ba/s]\n",
      "Creating parquet from Arrow format: 100%|██████████| 1500/1500 [00:01<00:00, 1445.36ba/s]\n",
      "Creating parquet from Arrow format: 100%|██████████| 1500/1500 [00:01<00:00, 1492.00ba/s]\n",
      "Creating parquet from Arrow format: 100%|██████████| 1500/1500 [00:00<00:00, 1551.57ba/s]\n",
      "Creating parquet from Arrow format: 100%|██████████| 1500/1500 [00:00<00:00, 1553.15ba/s]\n",
      "Creating parquet from Arrow format: 100%|██████████| 1500/1500 [00:00<00:00, 1556.78ba/s]\n",
      "Creating parquet from Arrow format: 100%|██████████| 1500/1500 [00:10<00:00, 137.47ba/s]\n",
      "Creating parquet from Arrow format: 100%|██████████| 1500/1500 [00:02<00:00, 550.16ba/s]\n",
      "Uploading the dataset shards: 100%|██████████| 48/48 [06:21<00:00,  7.94s/it]\n",
      "Creating parquet from Arrow format: 100%|██████████| 407/407 [00:00<00:00, 930.39ba/s]\n",
      "Uploading the dataset shards: 100%|██████████| 1/1 [00:02<00:00,  2.09s/it]\n"
     ]
    },
    {
     "data": {
      "text/plain": [
       "CommitInfo(commit_url='https://huggingface.co/datasets/BounharAbdelaziz/AL-Atlas-Moroccan-Darija-Pretraining-Dataset/commit/5783cacb61280a2fc47d090ebcf8e6404f9b3467', commit_message='Upload dataset', commit_description='', oid='5783cacb61280a2fc47d090ebcf8e6404f9b3467', pr_url=None, repo_url=RepoUrl('https://huggingface.co/datasets/BounharAbdelaziz/AL-Atlas-Moroccan-Darija-Pretraining-Dataset', endpoint='https://huggingface.co', repo_type='dataset', repo_id='BounharAbdelaziz/AL-Atlas-Moroccan-Darija-Pretraining-Dataset'), pr_revision=None, pr_num=None)"
      ]
     },
     "execution_count": 15,
     "metadata": {},
     "output_type": "execute_result"
    }
   ],
   "source": [
    "combined.push_to_hub(DATASET_HUB)"
   ]
  },
  {
   "cell_type": "markdown",
   "metadata": {},
   "source": [
    "# MinHash Deduplication"
   ]
  },
  {
   "cell_type": "code",
   "execution_count": 16,
   "metadata": {},
   "outputs": [],
   "source": [
    "from datasets import DatasetDict\n",
    "from datasketch import MinHash, MinHashLSH\n",
    "from sklearn.feature_extraction.text import CountVectorizer"
   ]
  },
  {
   "cell_type": "code",
   "execution_count": 85,
   "metadata": {},
   "outputs": [],
   "source": [
    "def run_minhash_deduplication(dataset_dict, text_column, n=3, num_perm=128, threshold=0.8, LOG_FREQUENCY=1000):\n",
    "\n",
    "    def generate_ngrams(text, n):\n",
    "        \"\"\"Generate n-grams from text.\"\"\"\n",
    "        vectorizer = CountVectorizer(ngram_range=(n, n), analyzer='word', token_pattern=r'\\b\\w+\\b')\n",
    "        try:\n",
    "            vectorizer.fit([text])\n",
    "            return vectorizer.get_feature_names_out()\n",
    "        except ValueError:\n",
    "            return []\n",
    "\n",
    "    def get_minhash(ngrams, num_perm):\n",
    "        \"\"\"Create a MinHash signature from n-grams.\"\"\"\n",
    "        m = MinHash(num_perm=num_perm)\n",
    "        for ngram in ngrams:\n",
    "            m.update(ngram.encode('utf8'))\n",
    "        return m\n",
    "\n",
    "    # Initialize LSH\n",
    "    lsh = MinHashLSH(threshold=threshold, num_perm=num_perm)\n",
    "\n",
    "    def process_example(example, idx, split_name):\n",
    "        \"\"\"Process a single example to check for duplicates.\"\"\"\n",
    "        global_id = f\"{split_name}_{idx}\"\n",
    "        text = example.get(text_column, None)\n",
    "\n",
    "        # # Log example details for debugging\n",
    "        # if idx % LOG_FREQUENCY == 0:  # Log every 1000 examples\n",
    "        #     print(f\"Processing {global_id}: {text[:50] if text else 'EMPTY'}\")\n",
    "\n",
    "        if text is None or not text.strip():\n",
    "            return {\"_keep\": False, **example}\n",
    "\n",
    "        ngrams = generate_ngrams(text, n)\n",
    "        if len(ngrams) == 0:  # Explicitly check if ngrams array is empty\n",
    "            return {\"_keep\": False, **example}\n",
    "\n",
    "        m = get_minhash(ngrams, num_perm)\n",
    "\n",
    "        # Check for duplicates\n",
    "        if lsh.query(m):\n",
    "            return {\"_keep\": False, **example}\n",
    "        else:\n",
    "            lsh.insert(global_id, m)\n",
    "            return {\"_keep\": True, **example}\n",
    "\n",
    "\n",
    "    # Deduplicate each split\n",
    "    deduplicated_splits = {}\n",
    "    for split_name, split_data in dataset_dict.items():\n",
    "        print(f\"Processing split: {split_name} (Size: {len(split_data)})\")\n",
    "        deduplicated_split = split_data.map(\n",
    "            lambda example, idx: process_example(example, idx, split_name),\n",
    "            with_indices=True,\n",
    "            remove_columns=[]  # Keeps the original schema\n",
    "        ).filter(lambda x: x[\"_keep\"])\n",
    "\n",
    "        deduplicated_split = deduplicated_split.remove_columns([\"_keep\"])\n",
    "        deduplicated_splits[split_name] = deduplicated_split\n",
    "\n",
    "    print(\"[INFO] Deduplication complete.\")\n",
    "    return DatasetDict(deduplicated_splits)\n"
   ]
  },
  {
   "cell_type": "code",
   "execution_count": 87,
   "metadata": {},
   "outputs": [],
   "source": [
    "LSH_THRESHOLD = 0.75\n",
    "NUM_PERM = 128\n",
    "N_GRAM = 3\n",
    "text_column ='text'\n",
    "LOG_FREQUENCY = 1000"
   ]
  },
  {
   "cell_type": "code",
   "execution_count": 88,
   "metadata": {},
   "outputs": [
    {
     "data": {
      "text/plain": [
       "DatasetDict({\n",
       "    train: Dataset({\n",
       "        features: ['text', 'dataset_source', 'metadata'],\n",
       "        num_rows: 71999640\n",
       "    })\n",
       "    test: Dataset({\n",
       "        features: ['text', 'dataset_source', 'metadata'],\n",
       "        num_rows: 406331\n",
       "    })\n",
       "})"
      ]
     },
     "execution_count": 88,
     "metadata": {},
     "output_type": "execute_result"
    }
   ],
   "source": [
    "dataset_in_hub"
   ]
  },
  {
   "cell_type": "code",
   "execution_count": 89,
   "metadata": {},
   "outputs": [
    {
     "name": "stdout",
     "output_type": "stream",
     "text": [
      "Processing split: train (Size: 71999640)\n"
     ]
    },
    {
     "name": "stderr",
     "output_type": "stream",
     "text": [
      "Map:   0%|          | 120/71999640 [00:00<34:23:00, 581.67 examples/s]"
     ]
    },
    {
     "name": "stderr",
     "output_type": "stream",
     "text": [
      "Map:   1%|          | 362046/71999640 [11:07<36:42:39, 542.05 examples/s] \n"
     ]
    },
    {
     "ename": "KeyboardInterrupt",
     "evalue": "",
     "output_type": "error",
     "traceback": [
      "\u001b[0;31m---------------------------------------------------------------------------\u001b[0m",
      "\u001b[0;31mKeyboardInterrupt\u001b[0m                         Traceback (most recent call last)",
      "Cell \u001b[0;32mIn[89], line 2\u001b[0m\n\u001b[1;32m      1\u001b[0m \u001b[38;5;66;03m# execute minhash dedpulication\u001b[39;00m\n\u001b[0;32m----> 2\u001b[0m deduplicated_dataset \u001b[38;5;241m=\u001b[39m \u001b[43mrun_minhash_deduplication\u001b[49m\u001b[43m(\u001b[49m\u001b[43mdataset_dict\u001b[49m\u001b[38;5;241;43m=\u001b[39;49m\u001b[43mdataset_in_hub\u001b[49m\u001b[43m,\u001b[49m\u001b[43m \u001b[49m\n\u001b[1;32m      3\u001b[0m \u001b[43m                                                \u001b[49m\u001b[43mtext_column\u001b[49m\u001b[38;5;241;43m=\u001b[39;49m\u001b[43mtext_column\u001b[49m\u001b[43m,\u001b[49m\u001b[43m \u001b[49m\n\u001b[1;32m      4\u001b[0m \u001b[43m                                                 \u001b[49m\u001b[43mn\u001b[49m\u001b[38;5;241;43m=\u001b[39;49m\u001b[43mN_GRAM\u001b[49m\u001b[43m,\u001b[49m\u001b[43m \u001b[49m\n\u001b[1;32m      5\u001b[0m \u001b[43m                                                 \u001b[49m\u001b[43mnum_perm\u001b[49m\u001b[38;5;241;43m=\u001b[39;49m\u001b[43mNUM_PERM\u001b[49m\u001b[43m,\u001b[49m\u001b[43m \u001b[49m\n\u001b[1;32m      6\u001b[0m \u001b[43m                                                 \u001b[49m\u001b[43mthreshold\u001b[49m\u001b[38;5;241;43m=\u001b[39;49m\u001b[43mLSH_THRESHOLD\u001b[49m\u001b[43m,\u001b[49m\n\u001b[1;32m      7\u001b[0m \u001b[43m                                                 \u001b[49m\u001b[43mLOG_FREQUENCY\u001b[49m\u001b[38;5;241;43m=\u001b[39;49m\u001b[43mLOG_FREQUENCY\u001b[49m\u001b[43m)\u001b[49m\n",
      "Cell \u001b[0;32mIn[85], line 52\u001b[0m, in \u001b[0;36mrun_minhash_deduplication\u001b[0;34m(dataset_dict, text_column, n, num_perm, threshold, LOG_FREQUENCY)\u001b[0m\n\u001b[1;32m     50\u001b[0m \u001b[38;5;28;01mfor\u001b[39;00m split_name, split_data \u001b[38;5;129;01min\u001b[39;00m dataset_dict\u001b[38;5;241m.\u001b[39mitems():\n\u001b[1;32m     51\u001b[0m     \u001b[38;5;28mprint\u001b[39m(\u001b[38;5;124mf\u001b[39m\u001b[38;5;124m\"\u001b[39m\u001b[38;5;124mProcessing split: \u001b[39m\u001b[38;5;132;01m{\u001b[39;00msplit_name\u001b[38;5;132;01m}\u001b[39;00m\u001b[38;5;124m (Size: \u001b[39m\u001b[38;5;132;01m{\u001b[39;00m\u001b[38;5;28mlen\u001b[39m(split_data)\u001b[38;5;132;01m}\u001b[39;00m\u001b[38;5;124m)\u001b[39m\u001b[38;5;124m\"\u001b[39m)\n\u001b[0;32m---> 52\u001b[0m     deduplicated_split \u001b[38;5;241m=\u001b[39m \u001b[43msplit_data\u001b[49m\u001b[38;5;241;43m.\u001b[39;49m\u001b[43mmap\u001b[49m\u001b[43m(\u001b[49m\n\u001b[1;32m     53\u001b[0m \u001b[43m        \u001b[49m\u001b[38;5;28;43;01mlambda\u001b[39;49;00m\u001b[43m \u001b[49m\u001b[43mexample\u001b[49m\u001b[43m,\u001b[49m\u001b[43m \u001b[49m\u001b[43midx\u001b[49m\u001b[43m:\u001b[49m\u001b[43m \u001b[49m\u001b[43mprocess_example\u001b[49m\u001b[43m(\u001b[49m\u001b[43mexample\u001b[49m\u001b[43m,\u001b[49m\u001b[43m \u001b[49m\u001b[43midx\u001b[49m\u001b[43m,\u001b[49m\u001b[43m \u001b[49m\u001b[43msplit_name\u001b[49m\u001b[43m)\u001b[49m\u001b[43m,\u001b[49m\n\u001b[1;32m     54\u001b[0m \u001b[43m        \u001b[49m\u001b[43mwith_indices\u001b[49m\u001b[38;5;241;43m=\u001b[39;49m\u001b[38;5;28;43;01mTrue\u001b[39;49;00m\u001b[43m,\u001b[49m\n\u001b[1;32m     55\u001b[0m \u001b[43m        \u001b[49m\u001b[43mremove_columns\u001b[49m\u001b[38;5;241;43m=\u001b[39;49m\u001b[43m[\u001b[49m\u001b[43m]\u001b[49m\u001b[43m  \u001b[49m\u001b[38;5;66;43;03m# Keeps the original schema\u001b[39;49;00m\n\u001b[1;32m     56\u001b[0m \u001b[43m    \u001b[49m\u001b[43m)\u001b[49m\u001b[38;5;241m.\u001b[39mfilter(\u001b[38;5;28;01mlambda\u001b[39;00m x: x[\u001b[38;5;124m\"\u001b[39m\u001b[38;5;124m_keep\u001b[39m\u001b[38;5;124m\"\u001b[39m])\n\u001b[1;32m     58\u001b[0m     deduplicated_split \u001b[38;5;241m=\u001b[39m deduplicated_split\u001b[38;5;241m.\u001b[39mremove_columns([\u001b[38;5;124m\"\u001b[39m\u001b[38;5;124m_keep\u001b[39m\u001b[38;5;124m\"\u001b[39m])\n\u001b[1;32m     59\u001b[0m     deduplicated_splits[split_name] \u001b[38;5;241m=\u001b[39m deduplicated_split\n",
      "File \u001b[0;32m~/.local/lib/python3.12/site-packages/datasets/arrow_dataset.py:560\u001b[0m, in \u001b[0;36mtransmit_format.<locals>.wrapper\u001b[0;34m(*args, **kwargs)\u001b[0m\n\u001b[1;32m    553\u001b[0m self_format \u001b[38;5;241m=\u001b[39m {\n\u001b[1;32m    554\u001b[0m     \u001b[38;5;124m\"\u001b[39m\u001b[38;5;124mtype\u001b[39m\u001b[38;5;124m\"\u001b[39m: \u001b[38;5;28mself\u001b[39m\u001b[38;5;241m.\u001b[39m_format_type,\n\u001b[1;32m    555\u001b[0m     \u001b[38;5;124m\"\u001b[39m\u001b[38;5;124mformat_kwargs\u001b[39m\u001b[38;5;124m\"\u001b[39m: \u001b[38;5;28mself\u001b[39m\u001b[38;5;241m.\u001b[39m_format_kwargs,\n\u001b[1;32m    556\u001b[0m     \u001b[38;5;124m\"\u001b[39m\u001b[38;5;124mcolumns\u001b[39m\u001b[38;5;124m\"\u001b[39m: \u001b[38;5;28mself\u001b[39m\u001b[38;5;241m.\u001b[39m_format_columns,\n\u001b[1;32m    557\u001b[0m     \u001b[38;5;124m\"\u001b[39m\u001b[38;5;124moutput_all_columns\u001b[39m\u001b[38;5;124m\"\u001b[39m: \u001b[38;5;28mself\u001b[39m\u001b[38;5;241m.\u001b[39m_output_all_columns,\n\u001b[1;32m    558\u001b[0m }\n\u001b[1;32m    559\u001b[0m \u001b[38;5;66;03m# apply actual function\u001b[39;00m\n\u001b[0;32m--> 560\u001b[0m out: Union[\u001b[38;5;124m\"\u001b[39m\u001b[38;5;124mDataset\u001b[39m\u001b[38;5;124m\"\u001b[39m, \u001b[38;5;124m\"\u001b[39m\u001b[38;5;124mDatasetDict\u001b[39m\u001b[38;5;124m\"\u001b[39m] \u001b[38;5;241m=\u001b[39m \u001b[43mfunc\u001b[49m\u001b[43m(\u001b[49m\u001b[38;5;28;43mself\u001b[39;49m\u001b[43m,\u001b[49m\u001b[43m \u001b[49m\u001b[38;5;241;43m*\u001b[39;49m\u001b[43margs\u001b[49m\u001b[43m,\u001b[49m\u001b[43m \u001b[49m\u001b[38;5;241;43m*\u001b[39;49m\u001b[38;5;241;43m*\u001b[39;49m\u001b[43mkwargs\u001b[49m\u001b[43m)\u001b[49m\n\u001b[1;32m    561\u001b[0m datasets: List[\u001b[38;5;124m\"\u001b[39m\u001b[38;5;124mDataset\u001b[39m\u001b[38;5;124m\"\u001b[39m] \u001b[38;5;241m=\u001b[39m \u001b[38;5;28mlist\u001b[39m(out\u001b[38;5;241m.\u001b[39mvalues()) \u001b[38;5;28;01mif\u001b[39;00m \u001b[38;5;28misinstance\u001b[39m(out, \u001b[38;5;28mdict\u001b[39m) \u001b[38;5;28;01melse\u001b[39;00m [out]\n\u001b[1;32m    562\u001b[0m \u001b[38;5;66;03m# re-apply format to the output\u001b[39;00m\n",
      "File \u001b[0;32m~/.local/lib/python3.12/site-packages/datasets/arrow_dataset.py:3055\u001b[0m, in \u001b[0;36mDataset.map\u001b[0;34m(self, function, with_indices, with_rank, input_columns, batched, batch_size, drop_last_batch, remove_columns, keep_in_memory, load_from_cache_file, cache_file_name, writer_batch_size, features, disable_nullable, fn_kwargs, num_proc, suffix_template, new_fingerprint, desc)\u001b[0m\n\u001b[1;32m   3049\u001b[0m \u001b[38;5;28;01mif\u001b[39;00m transformed_dataset \u001b[38;5;129;01mis\u001b[39;00m \u001b[38;5;28;01mNone\u001b[39;00m:\n\u001b[1;32m   3050\u001b[0m     \u001b[38;5;28;01mwith\u001b[39;00m hf_tqdm(\n\u001b[1;32m   3051\u001b[0m         unit\u001b[38;5;241m=\u001b[39m\u001b[38;5;124m\"\u001b[39m\u001b[38;5;124m examples\u001b[39m\u001b[38;5;124m\"\u001b[39m,\n\u001b[1;32m   3052\u001b[0m         total\u001b[38;5;241m=\u001b[39mpbar_total,\n\u001b[1;32m   3053\u001b[0m         desc\u001b[38;5;241m=\u001b[39mdesc \u001b[38;5;129;01mor\u001b[39;00m \u001b[38;5;124m\"\u001b[39m\u001b[38;5;124mMap\u001b[39m\u001b[38;5;124m\"\u001b[39m,\n\u001b[1;32m   3054\u001b[0m     ) \u001b[38;5;28;01mas\u001b[39;00m pbar:\n\u001b[0;32m-> 3055\u001b[0m \u001b[43m        \u001b[49m\u001b[38;5;28;43;01mfor\u001b[39;49;00m\u001b[43m \u001b[49m\u001b[43mrank\u001b[49m\u001b[43m,\u001b[49m\u001b[43m \u001b[49m\u001b[43mdone\u001b[49m\u001b[43m,\u001b[49m\u001b[43m \u001b[49m\u001b[43mcontent\u001b[49m\u001b[43m \u001b[49m\u001b[38;5;129;43;01min\u001b[39;49;00m\u001b[43m \u001b[49m\u001b[43mDataset\u001b[49m\u001b[38;5;241;43m.\u001b[39;49m\u001b[43m_map_single\u001b[49m\u001b[43m(\u001b[49m\u001b[38;5;241;43m*\u001b[39;49m\u001b[38;5;241;43m*\u001b[39;49m\u001b[43mdataset_kwargs\u001b[49m\u001b[43m)\u001b[49m\u001b[43m:\u001b[49m\n\u001b[1;32m   3056\u001b[0m \u001b[43m            \u001b[49m\u001b[38;5;28;43;01mif\u001b[39;49;00m\u001b[43m \u001b[49m\u001b[43mdone\u001b[49m\u001b[43m:\u001b[49m\n\u001b[1;32m   3057\u001b[0m \u001b[43m                \u001b[49m\u001b[43mshards_done\u001b[49m\u001b[43m \u001b[49m\u001b[38;5;241;43m+\u001b[39;49m\u001b[38;5;241;43m=\u001b[39;49m\u001b[43m \u001b[49m\u001b[38;5;241;43m1\u001b[39;49m\n",
      "File \u001b[0;32m~/.local/lib/python3.12/site-packages/datasets/arrow_dataset.py:3428\u001b[0m, in \u001b[0;36mDataset._map_single\u001b[0;34m(shard, function, with_indices, with_rank, input_columns, batched, batch_size, drop_last_batch, remove_columns, keep_in_memory, cache_file_name, writer_batch_size, features, disable_nullable, fn_kwargs, new_fingerprint, rank, offset)\u001b[0m\n\u001b[1;32m   3426\u001b[0m _time \u001b[38;5;241m=\u001b[39m time\u001b[38;5;241m.\u001b[39mtime()\n\u001b[1;32m   3427\u001b[0m \u001b[38;5;28;01mfor\u001b[39;00m i, example \u001b[38;5;129;01min\u001b[39;00m shard_iterable:\n\u001b[0;32m-> 3428\u001b[0m     example \u001b[38;5;241m=\u001b[39m \u001b[43mapply_function_on_filtered_inputs\u001b[49m\u001b[43m(\u001b[49m\u001b[43mexample\u001b[49m\u001b[43m,\u001b[49m\u001b[43m \u001b[49m\u001b[43mi\u001b[49m\u001b[43m,\u001b[49m\u001b[43m \u001b[49m\u001b[43moffset\u001b[49m\u001b[38;5;241;43m=\u001b[39;49m\u001b[43moffset\u001b[49m\u001b[43m)\u001b[49m\n\u001b[1;32m   3429\u001b[0m     \u001b[38;5;28;01mif\u001b[39;00m update_data:\n\u001b[1;32m   3430\u001b[0m         \u001b[38;5;28;01mif\u001b[39;00m i \u001b[38;5;241m==\u001b[39m \u001b[38;5;241m0\u001b[39m:\n",
      "File \u001b[0;32m~/.local/lib/python3.12/site-packages/datasets/arrow_dataset.py:3320\u001b[0m, in \u001b[0;36mDataset._map_single.<locals>.apply_function_on_filtered_inputs\u001b[0;34m(pa_inputs, indices, check_same_num_examples, offset)\u001b[0m\n\u001b[1;32m   3318\u001b[0m \u001b[38;5;28;01mif\u001b[39;00m with_rank:\n\u001b[1;32m   3319\u001b[0m     additional_args \u001b[38;5;241m+\u001b[39m\u001b[38;5;241m=\u001b[39m (rank,)\n\u001b[0;32m-> 3320\u001b[0m processed_inputs \u001b[38;5;241m=\u001b[39m \u001b[43mfunction\u001b[49m\u001b[43m(\u001b[49m\u001b[38;5;241;43m*\u001b[39;49m\u001b[43mfn_args\u001b[49m\u001b[43m,\u001b[49m\u001b[43m \u001b[49m\u001b[38;5;241;43m*\u001b[39;49m\u001b[43madditional_args\u001b[49m\u001b[43m,\u001b[49m\u001b[43m \u001b[49m\u001b[38;5;241;43m*\u001b[39;49m\u001b[38;5;241;43m*\u001b[39;49m\u001b[43mfn_kwargs\u001b[49m\u001b[43m)\u001b[49m\n\u001b[1;32m   3321\u001b[0m \u001b[38;5;28;01mif\u001b[39;00m \u001b[38;5;28misinstance\u001b[39m(processed_inputs, LazyDict):\n\u001b[1;32m   3322\u001b[0m     processed_inputs \u001b[38;5;241m=\u001b[39m {\n\u001b[1;32m   3323\u001b[0m         k: v \u001b[38;5;28;01mfor\u001b[39;00m k, v \u001b[38;5;129;01min\u001b[39;00m processed_inputs\u001b[38;5;241m.\u001b[39mdata\u001b[38;5;241m.\u001b[39mitems() \u001b[38;5;28;01mif\u001b[39;00m k \u001b[38;5;129;01mnot\u001b[39;00m \u001b[38;5;129;01min\u001b[39;00m processed_inputs\u001b[38;5;241m.\u001b[39mkeys_to_format\n\u001b[1;32m   3324\u001b[0m     }\n",
      "Cell \u001b[0;32mIn[85], line 53\u001b[0m, in \u001b[0;36mrun_minhash_deduplication.<locals>.<lambda>\u001b[0;34m(example, idx)\u001b[0m\n\u001b[1;32m     50\u001b[0m \u001b[38;5;28;01mfor\u001b[39;00m split_name, split_data \u001b[38;5;129;01min\u001b[39;00m dataset_dict\u001b[38;5;241m.\u001b[39mitems():\n\u001b[1;32m     51\u001b[0m     \u001b[38;5;28mprint\u001b[39m(\u001b[38;5;124mf\u001b[39m\u001b[38;5;124m\"\u001b[39m\u001b[38;5;124mProcessing split: \u001b[39m\u001b[38;5;132;01m{\u001b[39;00msplit_name\u001b[38;5;132;01m}\u001b[39;00m\u001b[38;5;124m (Size: \u001b[39m\u001b[38;5;132;01m{\u001b[39;00m\u001b[38;5;28mlen\u001b[39m(split_data)\u001b[38;5;132;01m}\u001b[39;00m\u001b[38;5;124m)\u001b[39m\u001b[38;5;124m\"\u001b[39m)\n\u001b[1;32m     52\u001b[0m     deduplicated_split \u001b[38;5;241m=\u001b[39m split_data\u001b[38;5;241m.\u001b[39mmap(\n\u001b[0;32m---> 53\u001b[0m         \u001b[38;5;28;01mlambda\u001b[39;00m example, idx: \u001b[43mprocess_example\u001b[49m\u001b[43m(\u001b[49m\u001b[43mexample\u001b[49m\u001b[43m,\u001b[49m\u001b[43m \u001b[49m\u001b[43midx\u001b[49m\u001b[43m,\u001b[49m\u001b[43m \u001b[49m\u001b[43msplit_name\u001b[49m\u001b[43m)\u001b[49m,\n\u001b[1;32m     54\u001b[0m         with_indices\u001b[38;5;241m=\u001b[39m\u001b[38;5;28;01mTrue\u001b[39;00m,\n\u001b[1;32m     55\u001b[0m         remove_columns\u001b[38;5;241m=\u001b[39m[]  \u001b[38;5;66;03m# Keeps the original schema\u001b[39;00m\n\u001b[1;32m     56\u001b[0m     )\u001b[38;5;241m.\u001b[39mfilter(\u001b[38;5;28;01mlambda\u001b[39;00m x: x[\u001b[38;5;124m\"\u001b[39m\u001b[38;5;124m_keep\u001b[39m\u001b[38;5;124m\"\u001b[39m])\n\u001b[1;32m     58\u001b[0m     deduplicated_split \u001b[38;5;241m=\u001b[39m deduplicated_split\u001b[38;5;241m.\u001b[39mremove_columns([\u001b[38;5;124m\"\u001b[39m\u001b[38;5;124m_keep\u001b[39m\u001b[38;5;124m\"\u001b[39m])\n\u001b[1;32m     59\u001b[0m     deduplicated_splits[split_name] \u001b[38;5;241m=\u001b[39m deduplicated_split\n",
      "Cell \u001b[0;32mIn[85], line 34\u001b[0m, in \u001b[0;36mrun_minhash_deduplication.<locals>.process_example\u001b[0;34m(example, idx, split_name)\u001b[0m\n\u001b[1;32m     31\u001b[0m \u001b[38;5;28;01mif\u001b[39;00m text \u001b[38;5;129;01mis\u001b[39;00m \u001b[38;5;28;01mNone\u001b[39;00m \u001b[38;5;129;01mor\u001b[39;00m \u001b[38;5;129;01mnot\u001b[39;00m text\u001b[38;5;241m.\u001b[39mstrip():\n\u001b[1;32m     32\u001b[0m     \u001b[38;5;28;01mreturn\u001b[39;00m {\u001b[38;5;124m\"\u001b[39m\u001b[38;5;124m_keep\u001b[39m\u001b[38;5;124m\"\u001b[39m: \u001b[38;5;28;01mFalse\u001b[39;00m, \u001b[38;5;241m*\u001b[39m\u001b[38;5;241m*\u001b[39mexample}\n\u001b[0;32m---> 34\u001b[0m ngrams \u001b[38;5;241m=\u001b[39m \u001b[43mgenerate_ngrams\u001b[49m\u001b[43m(\u001b[49m\u001b[43mtext\u001b[49m\u001b[43m,\u001b[49m\u001b[43m \u001b[49m\u001b[43mn\u001b[49m\u001b[43m)\u001b[49m\n\u001b[1;32m     35\u001b[0m \u001b[38;5;28;01mif\u001b[39;00m \u001b[38;5;28mlen\u001b[39m(ngrams) \u001b[38;5;241m==\u001b[39m \u001b[38;5;241m0\u001b[39m:  \u001b[38;5;66;03m# Explicitly check if ngrams array is empty\u001b[39;00m\n\u001b[1;32m     36\u001b[0m     \u001b[38;5;28;01mreturn\u001b[39;00m {\u001b[38;5;124m\"\u001b[39m\u001b[38;5;124m_keep\u001b[39m\u001b[38;5;124m\"\u001b[39m: \u001b[38;5;28;01mFalse\u001b[39;00m, \u001b[38;5;241m*\u001b[39m\u001b[38;5;241m*\u001b[39mexample}\n",
      "Cell \u001b[0;32mIn[85], line 7\u001b[0m, in \u001b[0;36mrun_minhash_deduplication.<locals>.generate_ngrams\u001b[0;34m(text, n)\u001b[0m\n\u001b[1;32m      5\u001b[0m vectorizer \u001b[38;5;241m=\u001b[39m CountVectorizer(ngram_range\u001b[38;5;241m=\u001b[39m(n, n), analyzer\u001b[38;5;241m=\u001b[39m\u001b[38;5;124m'\u001b[39m\u001b[38;5;124mword\u001b[39m\u001b[38;5;124m'\u001b[39m, token_pattern\u001b[38;5;241m=\u001b[39m\u001b[38;5;124mr\u001b[39m\u001b[38;5;124m'\u001b[39m\u001b[38;5;124m\\\u001b[39m\u001b[38;5;124mb\u001b[39m\u001b[38;5;124m\\\u001b[39m\u001b[38;5;124mw+\u001b[39m\u001b[38;5;124m\\\u001b[39m\u001b[38;5;124mb\u001b[39m\u001b[38;5;124m'\u001b[39m)\n\u001b[1;32m      6\u001b[0m \u001b[38;5;28;01mtry\u001b[39;00m:\n\u001b[0;32m----> 7\u001b[0m     \u001b[43mvectorizer\u001b[49m\u001b[38;5;241;43m.\u001b[39;49m\u001b[43mfit\u001b[49m\u001b[43m(\u001b[49m\u001b[43m[\u001b[49m\u001b[43mtext\u001b[49m\u001b[43m]\u001b[49m\u001b[43m)\u001b[49m\n\u001b[1;32m      8\u001b[0m     \u001b[38;5;28;01mreturn\u001b[39;00m vectorizer\u001b[38;5;241m.\u001b[39mget_feature_names_out()\n\u001b[1;32m      9\u001b[0m \u001b[38;5;28;01mexcept\u001b[39;00m \u001b[38;5;167;01mValueError\u001b[39;00m:\n",
      "File \u001b[0;32m~/.local/lib/python3.12/site-packages/sklearn/feature_extraction/text.py:1323\u001b[0m, in \u001b[0;36mCountVectorizer.fit\u001b[0;34m(self, raw_documents, y)\u001b[0m\n\u001b[1;32m   1307\u001b[0m \u001b[38;5;28;01mdef\u001b[39;00m \u001b[38;5;21mfit\u001b[39m(\u001b[38;5;28mself\u001b[39m, raw_documents, y\u001b[38;5;241m=\u001b[39m\u001b[38;5;28;01mNone\u001b[39;00m):\n\u001b[1;32m   1308\u001b[0m \u001b[38;5;250m    \u001b[39m\u001b[38;5;124;03m\"\"\"Learn a vocabulary dictionary of all tokens in the raw documents.\u001b[39;00m\n\u001b[1;32m   1309\u001b[0m \n\u001b[1;32m   1310\u001b[0m \u001b[38;5;124;03m    Parameters\u001b[39;00m\n\u001b[0;32m   (...)\u001b[0m\n\u001b[1;32m   1321\u001b[0m \u001b[38;5;124;03m        Fitted vectorizer.\u001b[39;00m\n\u001b[1;32m   1322\u001b[0m \u001b[38;5;124;03m    \"\"\"\u001b[39;00m\n\u001b[0;32m-> 1323\u001b[0m     \u001b[38;5;28;43mself\u001b[39;49m\u001b[38;5;241;43m.\u001b[39;49m\u001b[43mfit_transform\u001b[49m\u001b[43m(\u001b[49m\u001b[43mraw_documents\u001b[49m\u001b[43m)\u001b[49m\n\u001b[1;32m   1324\u001b[0m     \u001b[38;5;28;01mreturn\u001b[39;00m \u001b[38;5;28mself\u001b[39m\n",
      "File \u001b[0;32m~/.local/lib/python3.12/site-packages/sklearn/base.py:1473\u001b[0m, in \u001b[0;36m_fit_context.<locals>.decorator.<locals>.wrapper\u001b[0;34m(estimator, *args, **kwargs)\u001b[0m\n\u001b[1;32m   1466\u001b[0m     estimator\u001b[38;5;241m.\u001b[39m_validate_params()\n\u001b[1;32m   1468\u001b[0m \u001b[38;5;28;01mwith\u001b[39;00m config_context(\n\u001b[1;32m   1469\u001b[0m     skip_parameter_validation\u001b[38;5;241m=\u001b[39m(\n\u001b[1;32m   1470\u001b[0m         prefer_skip_nested_validation \u001b[38;5;129;01mor\u001b[39;00m global_skip_validation\n\u001b[1;32m   1471\u001b[0m     )\n\u001b[1;32m   1472\u001b[0m ):\n\u001b[0;32m-> 1473\u001b[0m     \u001b[38;5;28;01mreturn\u001b[39;00m \u001b[43mfit_method\u001b[49m\u001b[43m(\u001b[49m\u001b[43mestimator\u001b[49m\u001b[43m,\u001b[49m\u001b[43m \u001b[49m\u001b[38;5;241;43m*\u001b[39;49m\u001b[43margs\u001b[49m\u001b[43m,\u001b[49m\u001b[43m \u001b[49m\u001b[38;5;241;43m*\u001b[39;49m\u001b[38;5;241;43m*\u001b[39;49m\u001b[43mkwargs\u001b[49m\u001b[43m)\u001b[49m\n",
      "File \u001b[0;32m~/.local/lib/python3.12/site-packages/sklearn/feature_extraction/text.py:1385\u001b[0m, in \u001b[0;36mCountVectorizer.fit_transform\u001b[0;34m(self, raw_documents, y)\u001b[0m\n\u001b[1;32m   1383\u001b[0m \u001b[38;5;28;01mif\u001b[39;00m max_features \u001b[38;5;129;01mis\u001b[39;00m \u001b[38;5;129;01mnot\u001b[39;00m \u001b[38;5;28;01mNone\u001b[39;00m:\n\u001b[1;32m   1384\u001b[0m     X \u001b[38;5;241m=\u001b[39m \u001b[38;5;28mself\u001b[39m\u001b[38;5;241m.\u001b[39m_sort_features(X, vocabulary)\n\u001b[0;32m-> 1385\u001b[0m X \u001b[38;5;241m=\u001b[39m \u001b[38;5;28;43mself\u001b[39;49m\u001b[38;5;241;43m.\u001b[39;49m\u001b[43m_limit_features\u001b[49m\u001b[43m(\u001b[49m\n\u001b[1;32m   1386\u001b[0m \u001b[43m    \u001b[49m\u001b[43mX\u001b[49m\u001b[43m,\u001b[49m\u001b[43m \u001b[49m\u001b[43mvocabulary\u001b[49m\u001b[43m,\u001b[49m\u001b[43m \u001b[49m\u001b[43mmax_doc_count\u001b[49m\u001b[43m,\u001b[49m\u001b[43m \u001b[49m\u001b[43mmin_doc_count\u001b[49m\u001b[43m,\u001b[49m\u001b[43m \u001b[49m\u001b[43mmax_features\u001b[49m\n\u001b[1;32m   1387\u001b[0m \u001b[43m\u001b[49m\u001b[43m)\u001b[49m\n\u001b[1;32m   1388\u001b[0m \u001b[38;5;28;01mif\u001b[39;00m max_features \u001b[38;5;129;01mis\u001b[39;00m \u001b[38;5;28;01mNone\u001b[39;00m:\n\u001b[1;32m   1389\u001b[0m     X \u001b[38;5;241m=\u001b[39m \u001b[38;5;28mself\u001b[39m\u001b[38;5;241m.\u001b[39m_sort_features(X, vocabulary)\n",
      "File \u001b[0;32m~/.local/lib/python3.12/site-packages/sklearn/feature_extraction/text.py:1216\u001b[0m, in \u001b[0;36mCountVectorizer._limit_features\u001b[0;34m(self, X, vocabulary, high, low, limit)\u001b[0m\n\u001b[1;32m   1213\u001b[0m     \u001b[38;5;28;01mreturn\u001b[39;00m X, \u001b[38;5;28mset\u001b[39m()\n\u001b[1;32m   1215\u001b[0m \u001b[38;5;66;03m# Calculate a mask based on document frequencies\u001b[39;00m\n\u001b[0;32m-> 1216\u001b[0m dfs \u001b[38;5;241m=\u001b[39m \u001b[43m_document_frequency\u001b[49m\u001b[43m(\u001b[49m\u001b[43mX\u001b[49m\u001b[43m)\u001b[49m\n\u001b[1;32m   1217\u001b[0m mask \u001b[38;5;241m=\u001b[39m np\u001b[38;5;241m.\u001b[39mones(\u001b[38;5;28mlen\u001b[39m(dfs), dtype\u001b[38;5;241m=\u001b[39m\u001b[38;5;28mbool\u001b[39m)\n\u001b[1;32m   1218\u001b[0m \u001b[38;5;28;01mif\u001b[39;00m high \u001b[38;5;129;01mis\u001b[39;00m \u001b[38;5;129;01mnot\u001b[39;00m \u001b[38;5;28;01mNone\u001b[39;00m:\n",
      "File \u001b[0;32m~/.local/lib/python3.12/site-packages/sklearn/feature_extraction/text.py:924\u001b[0m, in \u001b[0;36m_document_frequency\u001b[0;34m(X)\u001b[0m\n\u001b[1;32m    922\u001b[0m \u001b[38;5;250m\u001b[39m\u001b[38;5;124;03m\"\"\"Count the number of non-zero values for each feature in sparse X.\"\"\"\u001b[39;00m\n\u001b[1;32m    923\u001b[0m \u001b[38;5;28;01mif\u001b[39;00m sp\u001b[38;5;241m.\u001b[39missparse(X) \u001b[38;5;129;01mand\u001b[39;00m X\u001b[38;5;241m.\u001b[39mformat \u001b[38;5;241m==\u001b[39m \u001b[38;5;124m\"\u001b[39m\u001b[38;5;124mcsr\u001b[39m\u001b[38;5;124m\"\u001b[39m:\n\u001b[0;32m--> 924\u001b[0m     \u001b[38;5;28;01mreturn\u001b[39;00m \u001b[43mnp\u001b[49m\u001b[38;5;241;43m.\u001b[39;49m\u001b[43mbincount\u001b[49m\u001b[43m(\u001b[49m\u001b[43mX\u001b[49m\u001b[38;5;241;43m.\u001b[39;49m\u001b[43mindices\u001b[49m\u001b[43m,\u001b[49m\u001b[43m \u001b[49m\u001b[43mminlength\u001b[49m\u001b[38;5;241;43m=\u001b[39;49m\u001b[43mX\u001b[49m\u001b[38;5;241;43m.\u001b[39;49m\u001b[43mshape\u001b[49m\u001b[43m[\u001b[49m\u001b[38;5;241;43m1\u001b[39;49m\u001b[43m]\u001b[49m\u001b[43m)\u001b[49m\n\u001b[1;32m    925\u001b[0m \u001b[38;5;28;01melse\u001b[39;00m:\n\u001b[1;32m    926\u001b[0m     \u001b[38;5;28;01mreturn\u001b[39;00m np\u001b[38;5;241m.\u001b[39mdiff(X\u001b[38;5;241m.\u001b[39mindptr)\n",
      "\u001b[0;31mKeyboardInterrupt\u001b[0m: "
     ]
    }
   ],
   "source": [
    "# execute minhash dedpulication\n",
    "deduplicated_dataset = run_minhash_deduplication(dataset_dict=dataset_in_hub, \n",
    "                                                text_column=text_column, \n",
    "                                                 n=N_GRAM, \n",
    "                                                 num_perm=NUM_PERM, \n",
    "                                                 threshold=LSH_THRESHOLD,\n",
    "                                                 LOG_FREQUENCY=LOG_FREQUENCY)"
   ]
  },
  {
   "cell_type": "code",
   "execution_count": 39,
   "metadata": {},
   "outputs": [
    {
     "data": {
      "text/plain": [
       "DatasetDict({\n",
       "    train: Dataset({\n",
       "        features: ['output', 'input', 'instruction'],\n",
       "        num_rows: 1072\n",
       "    })\n",
       "})"
      ]
     },
     "execution_count": 39,
     "metadata": {},
     "output_type": "execute_result"
    }
   ],
   "source": [
    "deduplicated_dataset"
   ]
  },
  {
   "cell_type": "code",
   "execution_count": null,
   "metadata": {},
   "outputs": [],
   "source": []
  }
 ],
 "metadata": {
  "kernelspec": {
   "display_name": "Python 3",
   "language": "python",
   "name": "python3"
  },
  "language_info": {
   "codemirror_mode": {
    "name": "ipython",
    "version": 3
   },
   "file_extension": ".py",
   "mimetype": "text/x-python",
   "name": "python",
   "nbconvert_exporter": "python",
   "pygments_lexer": "ipython3",
   "version": "3.12.3"
  }
 },
 "nbformat": 4,
 "nbformat_minor": 2
}
